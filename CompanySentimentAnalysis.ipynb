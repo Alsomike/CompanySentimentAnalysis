{
 "cells": [
  {
   "cell_type": "code",
   "execution_count": null,
   "id": "9e3c610f",
   "metadata": {},
   "outputs": [],
   "source": [
    "pip install nltk\n",
    "pip install newspaper3k"
   ]
  },
  {
   "cell_type": "code",
   "execution_count": 2,
   "id": "7f4de676",
   "metadata": {},
   "outputs": [
    {
     "name": "stdout",
     "output_type": "stream",
     "text": [
      "Enter Company: apple\n",
      "Total Articles in search 14\n",
      "Total Articles Analyzed 11\n",
      "Positive Articles Count: 8\n",
      "Negative Articles Count: 3\n"
     ]
    }
   ],
   "source": [
    "import nltk\n",
    "import requests\n",
    "import re\n",
    "from bs4 import BeautifulSoup\n",
    "from newspaper import Article\n",
    "from nltk.sentiment import SentimentIntensityAnalyzer\n",
    "\n",
    "def analyze_sentiment(urls):\n",
    "    # Initialize the sentiment analyzer\n",
    "    sid = SentimentIntensityAnalyzer()\n",
    "\n",
    "    positive_count = 0\n",
    "    negative_count = 0\n",
    "\n",
    "    for url in urls:\n",
    "        try:\n",
    "            # Download and parse the article\n",
    "            article = Article(url)\n",
    "            article.download()\n",
    "            article.parse()\n",
    "\n",
    "            # Get the article text content\n",
    "            article_text = article.text\n",
    "\n",
    "            # Analyze the sentiment of the article text\n",
    "            sentiment_scores = sid.polarity_scores(article_text)\n",
    "            compound_score = sentiment_scores['compound']\n",
    "\n",
    "            # Determine the sentiment label based on the compound score\n",
    "            sentiment_label = 'positive' if compound_score >= 0 else 'negative'\n",
    "\n",
    "            # Increment the corresponding sentiment count\n",
    "            if sentiment_label == 'positive':\n",
    "                positive_count += 1\n",
    "            else:\n",
    "                negative_count += 1\n",
    "        except Exception as e:\n",
    "            # Handle the exception, you can print the error message or handle it as per your requirement\n",
    "            continue\n",
    "\n",
    "    return positive_count, negative_count\n",
    "\n",
    "# Example usage\n",
    "def search_google_news(query):\n",
    "    search_query = query + \" Company\"\n",
    "    search_url = f\"https://www.google.com/search?q={search_query}&tbm=nws\"\n",
    "\n",
    "    response = requests.get(search_url)\n",
    "    soup = BeautifulSoup(response.content, 'html.parser')\n",
    "\n",
    "    search_results = soup.find_all('a', href=True)\n",
    "    article_urls = []\n",
    "\n",
    "    for result in search_results:\n",
    "        url = result['href']\n",
    "        if url.startswith('/url?q='):\n",
    "            url = url[7:]  # Remove '/url?q=' prefix\n",
    "            url = re.split('&', url, maxsplit=1)[0]  # Remove additional parameters\n",
    "            article_urls.append(url)\n",
    "\n",
    "    return article_urls\n",
    "\n",
    "# Example usage\n",
    "search_input = input(\"Enter Company: \")\n",
    "article_urls = search_google_news(search_input)\n",
    "\n",
    "positive_count, negative_count = analyze_sentiment(article_urls)\n",
    "\n",
    "Size = len(article_urls)\n",
    "Analyzed_articles = positive_count+negative_count\n",
    "print(\"Total Articles in search \" + str(Size))\n",
    "print(\"Total Articles Analyzed \"+ str(Analyzed_articles)) \n",
    "print(f\"Positive Articles Count: {positive_count}\")\n",
    "print(f\"Negative Articles Count: {negative_count}\")"
   ]
  },
  {
   "cell_type": "code",
   "execution_count": null,
   "id": "d9fc8505",
   "metadata": {},
   "outputs": [],
   "source": []
  }
 ],
 "metadata": {
  "kernelspec": {
   "display_name": "Python 3 (ipykernel)",
   "language": "python",
   "name": "python3"
  },
  "language_info": {
   "codemirror_mode": {
    "name": "ipython",
    "version": 3
   },
   "file_extension": ".py",
   "mimetype": "text/x-python",
   "name": "python",
   "nbconvert_exporter": "python",
   "pygments_lexer": "ipython3",
   "version": "3.9.12"
  }
 },
 "nbformat": 4,
 "nbformat_minor": 5
}
